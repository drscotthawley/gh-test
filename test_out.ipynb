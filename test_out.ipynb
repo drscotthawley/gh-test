{
  "cells": [
    {
      "cell_type": "code",
      "execution_count": 1,
      "metadata": {},
      "outputs": [
        {
          "name": "stderr",
          "output_type": "stream",
          "text": [
            "Downloading file 'Kevin_MacLeod_-_P_I_Tchaikovsky_Dance_of_the_Sugar_Plum_Fairy.ogg' from 'https://librosa.org/data/audio/Kevin_MacLeod_-_P_I_Tchaikovsky_Dance_of_the_Sugar_Plum_Fairy.ogg' to '/Users/shawley/Library/Caches/librosa'.\n"
          ]
        }
      ],
      "source": [
        "import librosa \n",
        "from IPython.display import Audio\n",
        "\n",
        "filename = librosa.example('nutcracker')\n",
        "y, sr = librosa.load(filename)"
      ]
    },
    {
      "cell_type": "code",
      "execution_count": 2,
      "metadata": {},
      "outputs": [
        {
          "data": {
            "text/html": [
              "\n                <audio  controls=\"controls\" >\n                    <source src=\"https://github.com/drscotthawley/gh-test/raw/audio-storage/audio_files/test_cell1_fbf162830da30caa83ea7a03aa6950dfa772069a31928d3a3dae3e052f7353f7.wav\" type=\"audio/wav\" />\n                    Your browser does not support the audio element.\n                </audio>\n              "
            ],
            "text/plain": [
              "<IPython.lib.display.Audio object>"
            ]
          },
          "execution_count": 2,
          "metadata": {},
          "output_type": "execute_result"
        }
      ],
      "source": [
        "Audio(data=y, rate=sr)"
      ]
    },
    {
      "cell_type": "code",
      "execution_count": null,
      "metadata": {},
      "outputs": [],
      "source": []
    }
  ],
  "metadata": {
    "kernelspec": {
      "display_name": "stomach",
      "language": "python",
      "name": "python3"
    },
    "language_info": {
      "codemirror_mode": {
        "name": "ipython",
        "version": 3
      },
      "file_extension": ".py",
      "mimetype": "text/x-python",
      "name": "python",
      "nbconvert_exporter": "python",
      "pygments_lexer": "ipython3",
      "version": "3.11.9"
    }
  },
  "nbformat": 4,
  "nbformat_minor": 2
}